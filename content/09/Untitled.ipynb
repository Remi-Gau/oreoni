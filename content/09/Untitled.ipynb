{
 "cells": [
  {
   "cell_type": "code",
   "execution_count": 15,
   "metadata": {},
   "outputs": [],
   "source": [
    "import plotly.graph_objects as go\n",
    "import pandas as pd\n",
    "\n",
    "df = pd.read_csv('supp.csv')\n",
    "df.columns = ['Name','URL', 'About', 'Class', 'Y/N', 'DOI']\n",
    "\n",
    "\n",
    "for idx, row in df.iterrows():\n",
    "    if not pd.isna(df.at[idx,'URL']):\n",
    "        df['URL'][idx]='<a href=\"' +  df['URL'][idx] + '\">' + df['URL'][idx] + '</a>'\n",
    "    if not pd.isna(df.at[idx,'DOI']):\n",
    "        df['DOI'][idx]='<a href=\"' +  df['DOI'][idx] + '\">' + df['DOI'][idx][16:] + '</a>'\n",
    "\n",
    "#df['URL'][3] = \n",
    "\n",
    "# fig = go.Figure(data=[go.Table(\n",
    "#     header=dict(values=list(df.columns),\n",
    "#                 fill_color='paleturquoise',\n",
    "#                 align='left'),\n",
    "#     cells=dict(values=[df.X,df.A, df.B, df.C, df.D, df.E],\n",
    "#                fill_color='lavender',\n",
    "#                align='left'))\n",
    "# ])\n",
    "\n",
    "fig = go.Figure(go.Table(header={\"values\": df.columns,\"fill_color\":'paleturquoise'}, cells={\"values\": df.T.values,\"align\":'left',\"fill_color\":'lavender'},columnwidth = [150,400,200,80,50,250]))\n",
    "\n",
    "fig.update_layout(\n",
    "    updatemenus=[\n",
    "        {\n",
    "            \"buttons\": [\n",
    "                {\n",
    "                    \"label\": c,\n",
    "                    \"method\": \"update\",\n",
    "                    \"args\": [\n",
    "                        {\n",
    "                            \"cells\": {\n",
    "                                \"values\": df.T.values\n",
    "                                if c == \"Type\"\n",
    "                                else df.loc[df[\"Class\"].eq(c)].T.values\n",
    "                            }\n",
    "                        }\n",
    "                    ],\n",
    "                }\n",
    "                for c in [\"All\"] + df[\"Class\"].unique().tolist()\n",
    "            ],\n",
    "        \"xanchor\" : \"center\",\n",
    "        \"yanchor\" : \"top\",\n",
    "        \"x\" : 0.1,\n",
    "        \"y\" : 1.1\n",
    "            \n",
    "        }\n",
    "\n",
    "    ]\n",
    ")\n",
    "\n",
    "fig.update_layout(height=600,width=1000)\n",
    "fig.write_html(\"rsc.html\")"
   ]
  },
  {
   "cell_type": "code",
   "execution_count": null,
   "metadata": {},
   "outputs": [],
   "source": []
  },
  {
   "cell_type": "code",
   "execution_count": null,
   "metadata": {},
   "outputs": [],
   "source": []
  }
 ],
 "metadata": {
  "kernelspec": {
   "display_name": "Python 3",
   "language": "python",
   "name": "python3"
  },
  "language_info": {
   "codemirror_mode": {
    "name": "ipython",
    "version": 3
   },
   "file_extension": ".py",
   "mimetype": "text/x-python",
   "name": "python",
   "nbconvert_exporter": "python",
   "pygments_lexer": "ipython3",
   "version": "3.6.12"
  }
 },
 "nbformat": 4,
 "nbformat_minor": 4
}
